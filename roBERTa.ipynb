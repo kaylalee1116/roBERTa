{
 "cells": [
  {
   "cell_type": "code",
   "execution_count": 2,
   "id": "alternative-gospel",
   "metadata": {},
   "outputs": [],
   "source": [
    "import torch\n",
    "import regex\n",
    "import tqdm\n",
    "\n",
    "\n",
    "class PythonPredictor:\n",
    "    def __init__(self, config):\n",
    "        roberta = torch.hub.load(\"pytorch/fairseq\", \"roberta.large\", force_reload=True)\n",
    "        roberta.eval()\n",
    "        device = \"cuda\" if torch.cuda.is_available() else \"cpu\"\n",
    "        print(f\"using device: {device}\")\n",
    "        roberta.to(device)\n",
    "\n",
    "        self.model = roberta\n",
    "\n",
    "    def predict(self, payload):\n",
    "        predictions = self.model.fill_mask(payload[\"text\"] + \" <mask>\", topk=5)\n",
    "        return [prediction[0] for prediction in predictions]"
   ]
  },
  {
   "cell_type": "code",
   "execution_count": null,
   "id": "immune-fraud",
   "metadata": {},
   "outputs": [],
   "source": []
  }
 ],
 "metadata": {
  "kernelspec": {
   "display_name": "Python 3",
   "language": "python",
   "name": "python3"
  },
  "language_info": {
   "codemirror_mode": {
    "name": "ipython",
    "version": 3
   },
   "file_extension": ".py",
   "mimetype": "text/x-python",
   "name": "python",
   "nbconvert_exporter": "python",
   "pygments_lexer": "ipython3",
   "version": "3.7.4"
  }
 },
 "nbformat": 4,
 "nbformat_minor": 5
}
